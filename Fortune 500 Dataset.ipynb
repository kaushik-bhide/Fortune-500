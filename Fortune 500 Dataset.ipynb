{
 "cells": [
  {
   "cell_type": "markdown",
   "metadata": {},
   "source": [
    "### Importing the data"
   ]
  },
  {
   "cell_type": "code",
   "execution_count": 51,
   "metadata": {},
   "outputs": [],
   "source": [
    "import pandas as pd\n",
    "dataset = pd.read_csv(\"Fortune.csv\",encoding='latin-1')"
   ]
  },
  {
   "cell_type": "markdown",
   "metadata": {},
   "source": [
    "#### Getting intuition of the dataset"
   ]
  },
  {
   "cell_type": "code",
   "execution_count": 52,
   "metadata": {},
   "outputs": [
    {
     "data": {
      "text/html": [
       "<div>\n",
       "<style scoped>\n",
       "    .dataframe tbody tr th:only-of-type {\n",
       "        vertical-align: middle;\n",
       "    }\n",
       "\n",
       "    .dataframe tbody tr th {\n",
       "        vertical-align: top;\n",
       "    }\n",
       "\n",
       "    .dataframe thead th {\n",
       "        text-align: right;\n",
       "    }\n",
       "</style>\n",
       "<table border=\"1\" class=\"dataframe\">\n",
       "  <thead>\n",
       "    <tr style=\"text-align: right;\">\n",
       "      <th></th>\n",
       "      <th>Rank</th>\n",
       "      <th>Company Name</th>\n",
       "      <th>Number of Employees</th>\n",
       "      <th>Previous Rank</th>\n",
       "      <th>Revenues</th>\n",
       "      <th>Revenue Change</th>\n",
       "      <th>Profits</th>\n",
       "      <th>Profit Change</th>\n",
       "      <th>Assets</th>\n",
       "      <th>Market Value</th>\n",
       "    </tr>\n",
       "  </thead>\n",
       "  <tbody>\n",
       "    <tr>\n",
       "      <th>0</th>\n",
       "      <td>1</td>\n",
       "      <td>Walmart</td>\n",
       "      <td>23,00,000</td>\n",
       "      <td>1.0</td>\n",
       "      <td>$4,85,873</td>\n",
       "      <td>0.8%</td>\n",
       "      <td>$13,643.0</td>\n",
       "      <td>-7.2%</td>\n",
       "      <td>$1,98,825</td>\n",
       "      <td>$2,18,619</td>\n",
       "    </tr>\n",
       "    <tr>\n",
       "      <th>1</th>\n",
       "      <td>2</td>\n",
       "      <td>Berkshire Hathaway</td>\n",
       "      <td>3,67,700</td>\n",
       "      <td>4.0</td>\n",
       "      <td>$2,23,604</td>\n",
       "      <td>6.1%</td>\n",
       "      <td>$24,074.0</td>\n",
       "      <td>0.0%</td>\n",
       "      <td>$6,20,854</td>\n",
       "      <td>$4,11,035</td>\n",
       "    </tr>\n",
       "    <tr>\n",
       "      <th>2</th>\n",
       "      <td>3</td>\n",
       "      <td>Apple</td>\n",
       "      <td>1,16,000</td>\n",
       "      <td>3.0</td>\n",
       "      <td>$2,15,639</td>\n",
       "      <td>-7.7%</td>\n",
       "      <td>$45,687.0</td>\n",
       "      <td>-14.4%</td>\n",
       "      <td>$3,21,686</td>\n",
       "      <td>$7,53,718</td>\n",
       "    </tr>\n",
       "    <tr>\n",
       "      <th>3</th>\n",
       "      <td>4</td>\n",
       "      <td>Exxon Mobil</td>\n",
       "      <td>72,700</td>\n",
       "      <td>2.0</td>\n",
       "      <td>$2,05,004</td>\n",
       "      <td>-16.7%</td>\n",
       "      <td>$7,840.0</td>\n",
       "      <td>-51.5%</td>\n",
       "      <td>$3,30,314</td>\n",
       "      <td>$3,40,056</td>\n",
       "    </tr>\n",
       "    <tr>\n",
       "      <th>4</th>\n",
       "      <td>5</td>\n",
       "      <td>McKesson</td>\n",
       "      <td>68,000</td>\n",
       "      <td>5.0</td>\n",
       "      <td>$1,92,487</td>\n",
       "      <td>6.2%</td>\n",
       "      <td>$2,258.0</td>\n",
       "      <td>53.0%</td>\n",
       "      <td>$56,563</td>\n",
       "      <td>$31,439</td>\n",
       "    </tr>\n",
       "  </tbody>\n",
       "</table>\n",
       "</div>"
      ],
      "text/plain": [
       "   Rank        Company Name Number of Employees  Previous Rank   Revenues  \\\n",
       "0     1             Walmart           23,00,000            1.0  $4,85,873   \n",
       "1     2  Berkshire Hathaway            3,67,700            4.0  $2,23,604   \n",
       "2     3               Apple            1,16,000            3.0  $2,15,639   \n",
       "3     4         Exxon Mobil              72,700            2.0  $2,05,004   \n",
       "4     5            McKesson              68,000            5.0  $1,92,487   \n",
       "\n",
       "  Revenue Change    Profits Profit Change     Assets Market Value  \n",
       "0           0.8%  $13,643.0         -7.2%  $1,98,825    $2,18,619  \n",
       "1           6.1%  $24,074.0          0.0%  $6,20,854    $4,11,035  \n",
       "2          -7.7%  $45,687.0        -14.4%  $3,21,686    $7,53,718  \n",
       "3         -16.7%   $7,840.0        -51.5%  $3,30,314    $3,40,056  \n",
       "4           6.2%   $2,258.0         53.0%    $56,563      $31,439  "
      ]
     },
     "execution_count": 52,
     "metadata": {},
     "output_type": "execute_result"
    }
   ],
   "source": [
    "dataset.head()"
   ]
  },
  {
   "cell_type": "markdown",
   "metadata": {},
   "source": [
    "#### Getting information about the data types in the dataset"
   ]
  },
  {
   "cell_type": "code",
   "execution_count": 53,
   "metadata": {},
   "outputs": [
    {
     "name": "stdout",
     "output_type": "stream",
     "text": [
      "<class 'pandas.core.frame.DataFrame'>\n",
      "RangeIndex: 500 entries, 0 to 499\n",
      "Data columns (total 10 columns):\n",
      " #   Column               Non-Null Count  Dtype  \n",
      "---  ------               --------------  -----  \n",
      " 0   Rank                 500 non-null    int64  \n",
      " 1   Company Name         500 non-null    object \n",
      " 2   Number of Employees  500 non-null    object \n",
      " 3   Previous Rank        492 non-null    float64\n",
      " 4   Revenues             500 non-null    object \n",
      " 5   Revenue Change       500 non-null    object \n",
      " 6   Profits              500 non-null    object \n",
      " 7   Profit Change        500 non-null    object \n",
      " 8   Assets               500 non-null    object \n",
      " 9   Market Value         500 non-null    object \n",
      "dtypes: float64(1), int64(1), object(8)\n",
      "memory usage: 39.2+ KB\n"
     ]
    }
   ],
   "source": [
    "dataset.info()"
   ]
  },
  {
   "cell_type": "markdown",
   "metadata": {},
   "source": [
    "#### Removing special characters using .replace() function"
   ]
  },
  {
   "cell_type": "code",
   "execution_count": 54,
   "metadata": {},
   "outputs": [],
   "source": [
    "dict = {'%':'',',':''}\n",
    "dataset = dataset.replace(dict ,regex=True)"
   ]
  },
  {
   "cell_type": "code",
   "execution_count": 55,
   "metadata": {},
   "outputs": [
    {
     "data": {
      "text/html": [
       "<div>\n",
       "<style scoped>\n",
       "    .dataframe tbody tr th:only-of-type {\n",
       "        vertical-align: middle;\n",
       "    }\n",
       "\n",
       "    .dataframe tbody tr th {\n",
       "        vertical-align: top;\n",
       "    }\n",
       "\n",
       "    .dataframe thead th {\n",
       "        text-align: right;\n",
       "    }\n",
       "</style>\n",
       "<table border=\"1\" class=\"dataframe\">\n",
       "  <thead>\n",
       "    <tr style=\"text-align: right;\">\n",
       "      <th></th>\n",
       "      <th>Rank</th>\n",
       "      <th>Company Name</th>\n",
       "      <th>Number of Employees</th>\n",
       "      <th>Previous Rank</th>\n",
       "      <th>Revenues</th>\n",
       "      <th>Revenue Change</th>\n",
       "      <th>Profits</th>\n",
       "      <th>Profit Change</th>\n",
       "      <th>Assets</th>\n",
       "      <th>Market Value</th>\n",
       "    </tr>\n",
       "  </thead>\n",
       "  <tbody>\n",
       "    <tr>\n",
       "      <th>0</th>\n",
       "      <td>1</td>\n",
       "      <td>Walmart</td>\n",
       "      <td>2300000</td>\n",
       "      <td>1.0</td>\n",
       "      <td>$485873</td>\n",
       "      <td>0.8</td>\n",
       "      <td>$13643.0</td>\n",
       "      <td>-7.2</td>\n",
       "      <td>$198825</td>\n",
       "      <td>$218619</td>\n",
       "    </tr>\n",
       "    <tr>\n",
       "      <th>1</th>\n",
       "      <td>2</td>\n",
       "      <td>Berkshire Hathaway</td>\n",
       "      <td>367700</td>\n",
       "      <td>4.0</td>\n",
       "      <td>$223604</td>\n",
       "      <td>6.1</td>\n",
       "      <td>$24074.0</td>\n",
       "      <td>0.0</td>\n",
       "      <td>$620854</td>\n",
       "      <td>$411035</td>\n",
       "    </tr>\n",
       "    <tr>\n",
       "      <th>2</th>\n",
       "      <td>3</td>\n",
       "      <td>Apple</td>\n",
       "      <td>116000</td>\n",
       "      <td>3.0</td>\n",
       "      <td>$215639</td>\n",
       "      <td>-7.7</td>\n",
       "      <td>$45687.0</td>\n",
       "      <td>-14.4</td>\n",
       "      <td>$321686</td>\n",
       "      <td>$753718</td>\n",
       "    </tr>\n",
       "    <tr>\n",
       "      <th>3</th>\n",
       "      <td>4</td>\n",
       "      <td>Exxon Mobil</td>\n",
       "      <td>72700</td>\n",
       "      <td>2.0</td>\n",
       "      <td>$205004</td>\n",
       "      <td>-16.7</td>\n",
       "      <td>$7840.0</td>\n",
       "      <td>-51.5</td>\n",
       "      <td>$330314</td>\n",
       "      <td>$340056</td>\n",
       "    </tr>\n",
       "    <tr>\n",
       "      <th>4</th>\n",
       "      <td>5</td>\n",
       "      <td>McKesson</td>\n",
       "      <td>68000</td>\n",
       "      <td>5.0</td>\n",
       "      <td>$192487</td>\n",
       "      <td>6.2</td>\n",
       "      <td>$2258.0</td>\n",
       "      <td>53.0</td>\n",
       "      <td>$56563</td>\n",
       "      <td>$31439</td>\n",
       "    </tr>\n",
       "  </tbody>\n",
       "</table>\n",
       "</div>"
      ],
      "text/plain": [
       "   Rank        Company Name Number of Employees  Previous Rank Revenues  \\\n",
       "0     1             Walmart             2300000            1.0  $485873   \n",
       "1     2  Berkshire Hathaway              367700            4.0  $223604   \n",
       "2     3               Apple              116000            3.0  $215639   \n",
       "3     4         Exxon Mobil               72700            2.0  $205004   \n",
       "4     5            McKesson               68000            5.0  $192487   \n",
       "\n",
       "  Revenue Change   Profits Profit Change   Assets Market Value  \n",
       "0            0.8  $13643.0          -7.2  $198825      $218619  \n",
       "1            6.1  $24074.0           0.0  $620854      $411035  \n",
       "2           -7.7  $45687.0         -14.4  $321686      $753718  \n",
       "3          -16.7   $7840.0         -51.5  $330314      $340056  \n",
       "4            6.2   $2258.0          53.0   $56563       $31439  "
      ]
     },
     "execution_count": 55,
     "metadata": {},
     "output_type": "execute_result"
    }
   ],
   "source": [
    "dataset.head()"
   ]
  },
  {
   "cell_type": "markdown",
   "metadata": {},
   "source": [
    "#### Removing special characters using str.replace() function"
   ]
  },
  {
   "cell_type": "code",
   "execution_count": 56,
   "metadata": {},
   "outputs": [],
   "source": [
    "str_cols = ['Revenues','Profits','Assets','Market Value']    # specify columns you want to replace\n",
    "dataset[str_cols]=dataset[str_cols].apply(lambda x: x.str.replace('$',''))"
   ]
  },
  {
   "cell_type": "code",
   "execution_count": 57,
   "metadata": {},
   "outputs": [
    {
     "data": {
      "text/html": [
       "<div>\n",
       "<style scoped>\n",
       "    .dataframe tbody tr th:only-of-type {\n",
       "        vertical-align: middle;\n",
       "    }\n",
       "\n",
       "    .dataframe tbody tr th {\n",
       "        vertical-align: top;\n",
       "    }\n",
       "\n",
       "    .dataframe thead th {\n",
       "        text-align: right;\n",
       "    }\n",
       "</style>\n",
       "<table border=\"1\" class=\"dataframe\">\n",
       "  <thead>\n",
       "    <tr style=\"text-align: right;\">\n",
       "      <th></th>\n",
       "      <th>Rank</th>\n",
       "      <th>Company Name</th>\n",
       "      <th>Number of Employees</th>\n",
       "      <th>Previous Rank</th>\n",
       "      <th>Revenues</th>\n",
       "      <th>Revenue Change</th>\n",
       "      <th>Profits</th>\n",
       "      <th>Profit Change</th>\n",
       "      <th>Assets</th>\n",
       "      <th>Market Value</th>\n",
       "    </tr>\n",
       "  </thead>\n",
       "  <tbody>\n",
       "    <tr>\n",
       "      <th>0</th>\n",
       "      <td>1</td>\n",
       "      <td>Walmart</td>\n",
       "      <td>2300000</td>\n",
       "      <td>1.0</td>\n",
       "      <td>485873</td>\n",
       "      <td>0.8</td>\n",
       "      <td>13643.0</td>\n",
       "      <td>-7.2</td>\n",
       "      <td>198825</td>\n",
       "      <td>218619</td>\n",
       "    </tr>\n",
       "    <tr>\n",
       "      <th>1</th>\n",
       "      <td>2</td>\n",
       "      <td>Berkshire Hathaway</td>\n",
       "      <td>367700</td>\n",
       "      <td>4.0</td>\n",
       "      <td>223604</td>\n",
       "      <td>6.1</td>\n",
       "      <td>24074.0</td>\n",
       "      <td>0.0</td>\n",
       "      <td>620854</td>\n",
       "      <td>411035</td>\n",
       "    </tr>\n",
       "    <tr>\n",
       "      <th>2</th>\n",
       "      <td>3</td>\n",
       "      <td>Apple</td>\n",
       "      <td>116000</td>\n",
       "      <td>3.0</td>\n",
       "      <td>215639</td>\n",
       "      <td>-7.7</td>\n",
       "      <td>45687.0</td>\n",
       "      <td>-14.4</td>\n",
       "      <td>321686</td>\n",
       "      <td>753718</td>\n",
       "    </tr>\n",
       "    <tr>\n",
       "      <th>3</th>\n",
       "      <td>4</td>\n",
       "      <td>Exxon Mobil</td>\n",
       "      <td>72700</td>\n",
       "      <td>2.0</td>\n",
       "      <td>205004</td>\n",
       "      <td>-16.7</td>\n",
       "      <td>7840.0</td>\n",
       "      <td>-51.5</td>\n",
       "      <td>330314</td>\n",
       "      <td>340056</td>\n",
       "    </tr>\n",
       "    <tr>\n",
       "      <th>4</th>\n",
       "      <td>5</td>\n",
       "      <td>McKesson</td>\n",
       "      <td>68000</td>\n",
       "      <td>5.0</td>\n",
       "      <td>192487</td>\n",
       "      <td>6.2</td>\n",
       "      <td>2258.0</td>\n",
       "      <td>53.0</td>\n",
       "      <td>56563</td>\n",
       "      <td>31439</td>\n",
       "    </tr>\n",
       "  </tbody>\n",
       "</table>\n",
       "</div>"
      ],
      "text/plain": [
       "   Rank        Company Name Number of Employees  Previous Rank Revenues  \\\n",
       "0     1             Walmart             2300000            1.0   485873   \n",
       "1     2  Berkshire Hathaway              367700            4.0   223604   \n",
       "2     3               Apple              116000            3.0   215639   \n",
       "3     4         Exxon Mobil               72700            2.0   205004   \n",
       "4     5            McKesson               68000            5.0   192487   \n",
       "\n",
       "  Revenue Change  Profits Profit Change  Assets Market Value  \n",
       "0            0.8  13643.0          -7.2  198825       218619  \n",
       "1            6.1  24074.0           0.0  620854       411035  \n",
       "2           -7.7  45687.0         -14.4  321686       753718  \n",
       "3          -16.7   7840.0         -51.5  330314       340056  \n",
       "4            6.2   2258.0          53.0   56563        31439  "
      ]
     },
     "execution_count": 57,
     "metadata": {},
     "output_type": "execute_result"
    }
   ],
   "source": [
    "dataset.head()"
   ]
  },
  {
   "cell_type": "markdown",
   "metadata": {},
   "source": [
    "#### Dropping the Company Name"
   ]
  },
  {
   "cell_type": "code",
   "execution_count": 58,
   "metadata": {},
   "outputs": [],
   "source": [
    "dataset = dataset.drop(['Company Name'],axis =1)"
   ]
  },
  {
   "cell_type": "markdown",
   "metadata": {},
   "source": [
    "#### Converting entire dataset into numeric  dataset"
   ]
  },
  {
   "cell_type": "code",
   "execution_count": 59,
   "metadata": {},
   "outputs": [],
   "source": [
    "dataset = dataset.apply(pd.to_numeric,errors='coerce')\n",
    "dataset = dataset.fillna(0)"
   ]
  },
  {
   "cell_type": "markdown",
   "metadata": {},
   "source": [
    "## Visualising the Data"
   ]
  },
  {
   "cell_type": "markdown",
   "metadata": {},
   "source": [
    "#### Plotting Revenues vs Profits"
   ]
  },
  {
   "cell_type": "code",
   "execution_count": 60,
   "metadata": {},
   "outputs": [
    {
     "data": {
      "image/png": "[encoded data removed]",
      "text/plain": [
       "<Figure size 1152x576 with 1 Axes>"
      ]
     },
     "metadata": {
      "needs_background": "light"
     },
     "output_type": "display_data"
    }
   ],
   "source": [
    "import matplotlib.pyplot as plt\n",
    "plt.figure(figsize=(16, 8))\n",
    "plt.scatter(\n",
    "    dataset['Revenues'],\n",
    "    dataset['Profits'],\n",
    "    c='black'\n",
    ")\n",
    "plt.xlabel('Revenues')\n",
    "plt.ylabel(\"Profits\")\n",
    "plt.show()"
   ]
  },
  {
   "cell_type": "markdown",
   "metadata": {},
   "source": [
    "##### Removing detected outlier"
   ]
  },
  {
   "cell_type": "code",
   "execution_count": 61,
   "metadata": {},
   "outputs": [],
   "source": [
    "#Replacing Outlier in the Profit&Revenues with the maximum value \n",
    "dataset['Profits']=dataset['Profits'].replace(to_replace=45687.0,value=36000.0)\n",
    "dataset['Revenues']=dataset['Revenues'].replace(to_replace=485873,value=200000)\n"
   ]
  },
  {
   "cell_type": "markdown",
   "metadata": {},
   "source": [
    "#### Number of Employees vs Profits"
   ]
  },
  {
   "cell_type": "code",
   "execution_count": 62,
   "metadata": {},
   "outputs": [
    {
     "data": {
      "image/png": "[encoded data removed]",
      "text/plain": [
       "<Figure size 1152x576 with 1 Axes>"
      ]
     },
     "metadata": {
      "needs_background": "light"
     },
     "output_type": "display_data"
    }
   ],
   "source": [
    "plt.figure(figsize=(16, 8))\n",
    "plt.scatter(\n",
    "    dataset['Number of Employees'],\n",
    "    dataset['Profits'],\n",
    "    c='black'\n",
    ")\n",
    "plt.xlabel('Number of Employees')\n",
    "plt.ylabel(\"Profits\")\n",
    "plt.show()"
   ]
  },
  {
   "cell_type": "code",
   "execution_count": 63,
   "metadata": {},
   "outputs": [],
   "source": [
    "#Replacing outlier with the maximum value \n",
    "dataset['Number of Employees']=dataset['Number of Employees'].replace(to_replace=2300000,value=490000)"
   ]
  },
  {
   "cell_type": "markdown",
   "metadata": {},
   "source": [
    "#### Plotting Assets vs Profits"
   ]
  },
  {
   "cell_type": "code",
   "execution_count": 64,
   "metadata": {},
   "outputs": [
    {
     "data": {
      "image/png": "[encoded data removed]",
      "text/plain": [
       "<Figure size 1152x576 with 1 Axes>"
      ]
     },
     "metadata": {
      "needs_background": "light"
     },
     "output_type": "display_data"
    }
   ],
   "source": [
    "plt.figure(figsize=(16, 8))\n",
    "plt.scatter(\n",
    "    dataset['Assets'],\n",
    "    dataset['Profits'],\n",
    "    c='black'\n",
    ")\n",
    "plt.xlabel('Assets')\n",
    "plt.ylabel(\"Profits\")\n",
    "plt.show()"
   ]
  },
  {
   "cell_type": "code",
   "execution_count": 65,
   "metadata": {},
   "outputs": [],
   "source": [
    "#Removing outlier by Replacing with maximum value\n",
    "dataset['Assets']=dataset['Assets'].replace(to_replace=3287968,value=2500000)"
   ]
  },
  {
   "cell_type": "markdown",
   "metadata": {},
   "source": [
    "#### Plotting Market Value vs Profits"
   ]
  },
  {
   "cell_type": "code",
   "execution_count": 66,
   "metadata": {},
   "outputs": [
    {
     "data": {
      "image/png": "[encoded data removed]",
      "text/plain": [
       "<Figure size 1152x576 with 1 Axes>"
      ]
     },
     "metadata": {
      "needs_background": "light"
     },
     "output_type": "display_data"
    }
   ],
   "source": [
    "plt.figure(figsize=(16, 8))\n",
    "plt.scatter(\n",
    "    dataset['Market Value'],\n",
    "    dataset['Profits'],\n",
    "    c='black'\n",
    ")\n",
    "plt.xlabel('Market Value')\n",
    "plt.ylabel(\"Profits\")\n",
    "plt.show()"
   ]
  },
  {
   "cell_type": "code",
   "execution_count": 67,
   "metadata": {},
   "outputs": [],
   "source": [
    "# Removing Outlier by replacing with the maximum value\n",
    "dataset['Market Value']=dataset['Market Value'].replace(to_replace=753718.0,value=600000.0)"
   ]
  },
  {
   "cell_type": "markdown",
   "metadata": {},
   "source": [
    "#### Plotting Profit Change vs Profits"
   ]
  },
  {
   "cell_type": "code",
   "execution_count": 68,
   "metadata": {},
   "outputs": [
    {
     "data": {
      "image/png": "[encoded data removed]",
      "text/plain": [
       "<Figure size 1152x576 with 1 Axes>"
      ]
     },
     "metadata": {
      "needs_background": "light"
     },
     "output_type": "display_data"
    }
   ],
   "source": [
    "plt.figure(figsize=(16, 8))\n",
    "plt.scatter(\n",
    "    dataset['Profit Change'],\n",
    "    dataset['Profits'],\n",
    "    c='black'\n",
    ")\n",
    "plt.xlabel('Profit Change')\n",
    "plt.ylabel(\"Profits\")\n",
    "plt.show()"
   ]
  },
  {
   "cell_type": "markdown",
   "metadata": {},
   "source": [
    "#### Plotting Rank vs Profits"
   ]
  },
  {
   "cell_type": "code",
   "execution_count": 69,
   "metadata": {},
   "outputs": [
    {
     "data": {
      "image/png": "[encoded data removed]",
      "text/plain": [
       "<Figure size 1152x576 with 1 Axes>"
      ]
     },
     "metadata": {
      "needs_background": "light"
     },
     "output_type": "display_data"
    }
   ],
   "source": [
    "plt.figure(figsize=(16, 8))\n",
    "plt.scatter(\n",
    "    dataset['Rank'],\n",
    "    dataset['Profits'],\n",
    "    c='black'\n",
    ")\n",
    "plt.xlabel('Rank')\n",
    "plt.ylabel(\"Profits\")\n",
    "plt.show()"
   ]
  },
  {
   "cell_type": "markdown",
   "metadata": {},
   "source": [
    "#### Storing all the feautres as Independent Variables to X and Dependent to the Y"
   ]
  },
  {
   "cell_type": "code",
   "execution_count": 70,
   "metadata": {},
   "outputs": [],
   "source": [
    "X = dataset.drop(['Profits'],axis=1)\n",
    "y= dataset['Profits']"
   ]
  },
  {
   "cell_type": "code",
   "execution_count": 71,
   "metadata": {},
   "outputs": [
    {
     "data": {
      "text/html": [
       "<div>\n",
       "<style scoped>\n",
       "    .dataframe tbody tr th:only-of-type {\n",
       "        vertical-align: middle;\n",
       "    }\n",
       "\n",
       "    .dataframe tbody tr th {\n",
       "        vertical-align: top;\n",
       "    }\n",
       "\n",
       "    .dataframe thead th {\n",
       "        text-align: right;\n",
       "    }\n",
       "</style>\n",
       "<table border=\"1\" class=\"dataframe\">\n",
       "  <thead>\n",
       "    <tr style=\"text-align: right;\">\n",
       "      <th></th>\n",
       "      <th>Rank</th>\n",
       "      <th>Number of Employees</th>\n",
       "      <th>Previous Rank</th>\n",
       "      <th>Revenues</th>\n",
       "      <th>Revenue Change</th>\n",
       "      <th>Profit Change</th>\n",
       "      <th>Assets</th>\n",
       "      <th>Market Value</th>\n",
       "    </tr>\n",
       "  </thead>\n",
       "  <tbody>\n",
       "    <tr>\n",
       "      <th>0</th>\n",
       "      <td>1</td>\n",
       "      <td>490000</td>\n",
       "      <td>1.0</td>\n",
       "      <td>200000</td>\n",
       "      <td>0.8</td>\n",
       "      <td>-7.2</td>\n",
       "      <td>198825</td>\n",
       "      <td>218619.0</td>\n",
       "    </tr>\n",
       "    <tr>\n",
       "      <th>1</th>\n",
       "      <td>2</td>\n",
       "      <td>367700</td>\n",
       "      <td>4.0</td>\n",
       "      <td>223604</td>\n",
       "      <td>6.1</td>\n",
       "      <td>0.0</td>\n",
       "      <td>620854</td>\n",
       "      <td>411035.0</td>\n",
       "    </tr>\n",
       "    <tr>\n",
       "      <th>2</th>\n",
       "      <td>3</td>\n",
       "      <td>116000</td>\n",
       "      <td>3.0</td>\n",
       "      <td>215639</td>\n",
       "      <td>-7.7</td>\n",
       "      <td>-14.4</td>\n",
       "      <td>321686</td>\n",
       "      <td>600000.0</td>\n",
       "    </tr>\n",
       "    <tr>\n",
       "      <th>3</th>\n",
       "      <td>4</td>\n",
       "      <td>72700</td>\n",
       "      <td>2.0</td>\n",
       "      <td>205004</td>\n",
       "      <td>-16.7</td>\n",
       "      <td>-51.5</td>\n",
       "      <td>330314</td>\n",
       "      <td>340056.0</td>\n",
       "    </tr>\n",
       "    <tr>\n",
       "      <th>4</th>\n",
       "      <td>5</td>\n",
       "      <td>68000</td>\n",
       "      <td>5.0</td>\n",
       "      <td>192487</td>\n",
       "      <td>6.2</td>\n",
       "      <td>53.0</td>\n",
       "      <td>56563</td>\n",
       "      <td>31439.0</td>\n",
       "    </tr>\n",
       "  </tbody>\n",
       "</table>\n",
       "</div>"
      ],
      "text/plain": [
       "   Rank  Number of Employees  Previous Rank  Revenues  Revenue Change  \\\n",
       "0     1               490000            1.0    200000             0.8   \n",
       "1     2               367700            4.0    223604             6.1   \n",
       "2     3               116000            3.0    215639            -7.7   \n",
       "3     4                72700            2.0    205004           -16.7   \n",
       "4     5                68000            5.0    192487             6.2   \n",
       "\n",
       "   Profit Change  Assets  Market Value  \n",
       "0           -7.2  198825      218619.0  \n",
       "1            0.0  620854      411035.0  \n",
       "2          -14.4  321686      600000.0  \n",
       "3          -51.5  330314      340056.0  \n",
       "4           53.0   56563       31439.0  "
      ]
     },
     "execution_count": 71,
     "metadata": {},
     "output_type": "execute_result"
    }
   ],
   "source": [
    "X.head()"
   ]
  },
  {
   "cell_type": "markdown",
   "metadata": {},
   "source": [
    "#### Importing statsmodel "
   ]
  },
  {
   "cell_type": "code",
   "execution_count": 72,
   "metadata": {},
   "outputs": [],
   "source": [
    "import statsmodels.api as sm"
   ]
  },
  {
   "cell_type": "markdown",
   "metadata": {},
   "source": [
    "#### Checking the summary of our model"
   ]
  },
  {
   "cell_type": "code",
   "execution_count": 73,
   "metadata": {},
   "outputs": [
    {
     "name": "stdout",
     "output_type": "stream",
     "text": [
      "                            OLS Regression Results                            \n",
      "==============================================================================\n",
      "Dep. Variable:                Profits   R-squared:                       0.793\n",
      "Model:                            OLS   Adj. R-squared:                  0.790\n",
      "Method:                 Least Squares   F-statistic:                     235.1\n",
      "Date:                Mon, 30 Mar 2020   Prob (F-statistic):          1.52e-162\n",
      "Time:                        15:30:05   Log-Likelihood:                -4428.6\n",
      "No. Observations:                 500   AIC:                             8875.\n",
      "Df Residuals:                     491   BIC:                             8913.\n",
      "Df Model:                           8                                         \n",
      "Covariance Type:            nonrobust                                         \n",
      "=======================================================================================\n",
      "                          coef    std err          t      P>|t|      [0.025      0.975]\n",
      "---------------------------------------------------------------------------------------\n",
      "const                -506.8942    257.538     -1.968      0.050   -1012.907      -0.881\n",
      "Rank                   -0.8845      1.801     -0.491      0.624      -4.424       2.655\n",
      "Number of Employees     0.0022      0.001      1.687      0.092      -0.000       0.005\n",
      "Previous Rank           1.6613      1.711      0.971      0.332      -1.700       5.023\n",
      "Revenues                0.0123      0.004      3.200      0.001       0.005       0.020\n",
      "Revenue Change         -3.9036      5.146     -0.759      0.448     -14.015       6.208\n",
      "Profit Change           1.4921      0.706      2.114      0.035       0.105       2.879\n",
      "Assets                  0.0044      0.000     13.122      0.000       0.004       0.005\n",
      "Market Value            0.0345      0.001     24.351      0.000       0.032       0.037\n",
      "==============================================================================\n",
      "Omnibus:                      205.965   Durbin-Watson:                   1.858\n",
      "Prob(Omnibus):                  0.000   Jarque-Bera (JB):            11439.899\n",
      "Skew:                          -0.957   Prob(JB):                         0.00\n",
      "Kurtosis:                      26.355   Cond. No.                     9.08e+05\n",
      "==============================================================================\n",
      "\n",
      "Warnings:\n",
      "[1] Standard Errors assume that the covariance matrix of the errors is correctly specified.\n",
      "[2] The condition number is large, 9.08e+05. This might indicate that there are\n",
      "strong multicollinearity or other numerical problems.\n"
     ]
    }
   ],
   "source": [
    "X1 = sm.add_constant(X)\n",
    "est = sm.OLS(y, X1)\n",
    "est2 = est.fit()\n",
    "print(est2.summary())"
   ]
  },
  {
   "cell_type": "markdown",
   "metadata": {},
   "source": [
    "#### Removing variable with High P-Value and checking the results"
   ]
  },
  {
   "cell_type": "code",
   "execution_count": 76,
   "metadata": {},
   "outputs": [],
   "source": [
    "X1= dataset.drop(['Profits','Number of Employees'],axis=1)\n",
    "y1= dataset['Profits']"
   ]
  },
  {
   "cell_type": "code",
   "execution_count": 77,
   "metadata": {},
   "outputs": [
    {
     "name": "stdout",
     "output_type": "stream",
     "text": [
      "                            OLS Regression Results                            \n",
      "==============================================================================\n",
      "Dep. Variable:                Profits   R-squared:                       0.792\n",
      "Model:                            OLS   Adj. R-squared:                  0.789\n",
      "Method:                 Least Squares   F-statistic:                     267.3\n",
      "Date:                Mon, 30 Mar 2020   Prob (F-statistic):          3.68e-163\n",
      "Time:                        15:34:35   Log-Likelihood:                -4430.1\n",
      "No. Observations:                 500   AIC:                             8876.\n",
      "Df Residuals:                     492   BIC:                             8910.\n",
      "Df Model:                           7                                         \n",
      "Covariance Type:            nonrobust                                         \n",
      "==================================================================================\n",
      "                     coef    std err          t      P>|t|      [0.025      0.975]\n",
      "----------------------------------------------------------------------------------\n",
      "const           -397.7255    249.741     -1.593      0.112    -888.416      92.965\n",
      "Rank              -0.5885      1.796     -0.328      0.743      -4.118       2.941\n",
      "Previous Rank      1.1616      1.688      0.688      0.492      -2.155       4.479\n",
      "Revenues           0.0145      0.004      4.001      0.000       0.007       0.022\n",
      "Revenue Change    -2.5066      5.089     -0.493      0.623     -12.505       7.491\n",
      "Profit Change      1.5017      0.707      2.124      0.034       0.113       2.891\n",
      "Assets             0.0043      0.000     13.028      0.000       0.004       0.005\n",
      "Market Value       0.0347      0.001     24.527      0.000       0.032       0.038\n",
      "==============================================================================\n",
      "Omnibus:                      210.766   Durbin-Watson:                   1.851\n",
      "Prob(Omnibus):                  0.000   Jarque-Bera (JB):            10224.511\n",
      "Skew:                          -1.044   Prob(JB):                         0.00\n",
      "Kurtosis:                      25.055   Cond. No.                     8.72e+05\n",
      "==============================================================================\n",
      "\n",
      "Warnings:\n",
      "[1] Standard Errors assume that the covariance matrix of the errors is correctly specified.\n",
      "[2] The condition number is large, 8.72e+05. This might indicate that there are\n",
      "strong multicollinearity or other numerical problems.\n"
     ]
    }
   ],
   "source": [
    "X2 = sm.add_constant(X1)\n",
    "est1 = sm.OLS(y1, X2)\n",
    "est3 = est1.fit()\n",
    "print(est3.summary())"
   ]
  },
  {
   "cell_type": "code",
   "execution_count": 78,
   "metadata": {},
   "outputs": [],
   "source": [
    "X2= dataset.drop(['Profits','Number of Employees','Rank'],axis=1)\n",
    "y2= dataset['Profits']"
   ]
  },
  {
   "cell_type": "code",
   "execution_count": 79,
   "metadata": {},
   "outputs": [
    {
     "name": "stdout",
     "output_type": "stream",
     "text": [
      "                            OLS Regression Results                            \n",
      "==============================================================================\n",
      "Dep. Variable:                Profits   R-squared:                       0.792\n",
      "Model:                            OLS   Adj. R-squared:                  0.789\n",
      "Method:                 Least Squares   F-statistic:                     312.4\n",
      "Date:                Mon, 30 Mar 2020   Prob (F-statistic):          2.11e-164\n",
      "Time:                        15:36:32   Log-Likelihood:                -4430.1\n",
      "No. Observations:                 500   AIC:                             8874.\n",
      "Df Residuals:                     493   BIC:                             8904.\n",
      "Df Model:                           6                                         \n",
      "Covariance Type:            nonrobust                                         \n",
      "==================================================================================\n",
      "                     coef    std err          t      P>|t|      [0.025      0.975]\n",
      "----------------------------------------------------------------------------------\n",
      "const           -426.1451    233.981     -1.821      0.069    -885.867      33.577\n",
      "Previous Rank      0.6551      0.678      0.967      0.334      -0.677       1.987\n",
      "Revenues           0.0147      0.004      4.106      0.000       0.008       0.022\n",
      "Revenue Change    -1.5481      4.160     -0.372      0.710      -9.721       6.625\n",
      "Profit Change      1.5024      0.706      2.127      0.034       0.114       2.890\n",
      "Assets             0.0043      0.000     13.071      0.000       0.004       0.005\n",
      "Market Value       0.0348      0.001     24.588      0.000       0.032       0.038\n",
      "==============================================================================\n",
      "Omnibus:                      211.249   Durbin-Watson:                   1.850\n",
      "Prob(Omnibus):                  0.000   Jarque-Bera (JB):            10272.630\n",
      "Skew:                          -1.047   Prob(JB):                         0.00\n",
      "Kurtosis:                      25.107   Cond. No.                     8.17e+05\n",
      "==============================================================================\n",
      "\n",
      "Warnings:\n",
      "[1] Standard Errors assume that the covariance matrix of the errors is correctly specified.\n",
      "[2] The condition number is large, 8.17e+05. This might indicate that there are\n",
      "strong multicollinearity or other numerical problems.\n"
     ]
    }
   ],
   "source": [
    "X3 = sm.add_constant(X2)\n",
    "est2 = sm.OLS(y2, X3)\n",
    "est4 = est2.fit()\n",
    "print(est4.summary())"
   ]
  },
  {
   "cell_type": "code",
   "execution_count": 80,
   "metadata": {},
   "outputs": [],
   "source": [
    "X3= dataset.drop(['Profits','Number of Employees','Rank','Revenue Change'],axis=1)\n",
    "y3= dataset['Profits']"
   ]
  },
  {
   "cell_type": "code",
   "execution_count": 81,
   "metadata": {},
   "outputs": [
    {
     "name": "stdout",
     "output_type": "stream",
     "text": [
      "                            OLS Regression Results                            \n",
      "==============================================================================\n",
      "Dep. Variable:                Profits   R-squared:                       0.792\n",
      "Model:                            OLS   Adj. R-squared:                  0.790\n",
      "Method:                 Least Squares   F-statistic:                     375.5\n",
      "Date:                Mon, 30 Mar 2020   Prob (F-statistic):          1.11e-165\n",
      "Time:                        15:38:15   Log-Likelihood:                -4430.2\n",
      "No. Observations:                 500   AIC:                             8872.\n",
      "Df Residuals:                     494   BIC:                             8898.\n",
      "Df Model:                           5                                         \n",
      "Covariance Type:            nonrobust                                         \n",
      "=================================================================================\n",
      "                    coef    std err          t      P>|t|      [0.025      0.975]\n",
      "---------------------------------------------------------------------------------\n",
      "const          -403.2130    225.525     -1.788      0.074    -846.319      39.893\n",
      "Previous Rank     0.5660      0.634      0.893      0.372      -0.679       1.811\n",
      "Revenues          0.0145      0.004      4.102      0.000       0.008       0.021\n",
      "Profit Change     1.4711      0.701      2.099      0.036       0.094       2.848\n",
      "Assets            0.0043      0.000     13.085      0.000       0.004       0.005\n",
      "Market Value      0.0347      0.001     24.635      0.000       0.032       0.037\n",
      "==============================================================================\n",
      "Omnibus:                      209.271   Durbin-Watson:                   1.848\n",
      "Prob(Omnibus):                  0.000   Jarque-Bera (JB):            10285.110\n",
      "Skew:                          -1.026   Prob(JB):                         0.00\n",
      "Kurtosis:                      25.124   Cond. No.                     7.89e+05\n",
      "==============================================================================\n",
      "\n",
      "Warnings:\n",
      "[1] Standard Errors assume that the covariance matrix of the errors is correctly specified.\n",
      "[2] The condition number is large, 7.89e+05. This might indicate that there are\n",
      "strong multicollinearity or other numerical problems.\n"
     ]
    }
   ],
   "source": [
    "X4 = sm.add_constant(X3)\n",
    "est3 = sm.OLS(y3, X4)\n",
    "est5 = est3.fit()\n",
    "print(est5.summary())"
   ]
  },
  {
   "cell_type": "code",
   "execution_count": 85,
   "metadata": {},
   "outputs": [],
   "source": [
    "X4= dataset.drop(['Profits','Number of Employees','Rank','Revenue Change','Previous Rank'],axis=1)\n",
    "y4= dataset['Profits']"
   ]
  },
  {
   "cell_type": "code",
   "execution_count": 86,
   "metadata": {},
   "outputs": [
    {
     "name": "stdout",
     "output_type": "stream",
     "text": [
      "                                 OLS Regression Results                                \n",
      "=======================================================================================\n",
      "Dep. Variable:                Profits   R-squared (uncentered):                   0.827\n",
      "Model:                            OLS   Adj. R-squared (uncentered):              0.826\n",
      "Method:                 Least Squares   F-statistic:                              594.4\n",
      "Date:                Mon, 30 Mar 2020   Prob (F-statistic):                   1.29e-187\n",
      "Time:                        15:42:44   Log-Likelihood:                         -4433.3\n",
      "No. Observations:                 500   AIC:                                      8875.\n",
      "Df Residuals:                     496   BIC:                                      8891.\n",
      "Df Model:                           4                                                  \n",
      "Covariance Type:            nonrobust                                                  \n",
      "=================================================================================\n",
      "                    coef    std err          t      P>|t|      [0.025      0.975]\n",
      "---------------------------------------------------------------------------------\n",
      "Revenues          0.0103      0.003      3.589      0.000       0.005       0.016\n",
      "Profit Change     1.5354      0.702      2.186      0.029       0.155       2.915\n",
      "Assets            0.0043      0.000     12.948      0.000       0.004       0.005\n",
      "Market Value      0.0344      0.001     24.404      0.000       0.032       0.037\n",
      "==============================================================================\n",
      "Omnibus:                      173.790   Durbin-Watson:                   1.826\n",
      "Prob(Omnibus):                  0.000   Jarque-Bera (JB):             9638.054\n",
      "Skew:                          -0.644   Prob(JB):                         0.00\n",
      "Kurtosis:                      24.470   Cond. No.                     2.45e+03\n",
      "==============================================================================\n",
      "\n",
      "Warnings:\n",
      "[1] Standard Errors assume that the covariance matrix of the errors is correctly specified.\n",
      "[2] The condition number is large, 2.45e+03. This might indicate that there are\n",
      "strong multicollinearity or other numerical problems.\n"
     ]
    }
   ],
   "source": [
    "X5 = sm.add_constant(X4)\n",
    "est4 = sm.OLS(y4, X4)\n",
    "est6 = est4.fit()\n",
    "print(est6.summary())"
   ]
  },
  {
   "cell_type": "code",
   "execution_count": 87,
   "metadata": {},
   "outputs": [],
   "source": [
    "final_X= dataset.drop(['Profits','Number of Employees','Rank','Revenue Change','Previous Rank','Profit Change'],axis=1)\n",
    "final_y= dataset['Profits']"
   ]
  },
  {
   "cell_type": "code",
   "execution_count": 88,
   "metadata": {},
   "outputs": [
    {
     "name": "stdout",
     "output_type": "stream",
     "text": [
      "                            OLS Regression Results                            \n",
      "==============================================================================\n",
      "Dep. Variable:                Profits   R-squared:                       0.789\n",
      "Model:                            OLS   Adj. R-squared:                  0.788\n",
      "Method:                 Least Squares   F-statistic:                     619.6\n",
      "Date:                Mon, 30 Mar 2020   Prob (F-statistic):          2.68e-167\n",
      "Time:                        15:44:33   Log-Likelihood:                -4432.9\n",
      "No. Observations:                 500   AIC:                             8874.\n",
      "Df Residuals:                     496   BIC:                             8891.\n",
      "Df Model:                           3                                         \n",
      "Covariance Type:            nonrobust                                         \n",
      "================================================================================\n",
      "                   coef    std err          t      P>|t|      [0.025      0.975]\n",
      "--------------------------------------------------------------------------------\n",
      "const         -223.5870     94.862     -2.357      0.019    -409.968     -37.206\n",
      "Revenues         0.0125      0.003      4.073      0.000       0.006       0.019\n",
      "Assets           0.0043      0.000     12.984      0.000       0.004       0.005\n",
      "Market Value     0.0350      0.001     24.921      0.000       0.032       0.038\n",
      "==============================================================================\n",
      "Omnibus:                      196.355   Durbin-Watson:                   1.855\n",
      "Prob(Omnibus):                  0.000   Jarque-Bera (JB):             9140.673\n",
      "Skew:                          -0.923   Prob(JB):                         0.00\n",
      "Kurtosis:                      23.865   Cond. No.                     3.31e+05\n",
      "==============================================================================\n",
      "\n",
      "Warnings:\n",
      "[1] Standard Errors assume that the covariance matrix of the errors is correctly specified.\n",
      "[2] The condition number is large, 3.31e+05. This might indicate that there are\n",
      "strong multicollinearity or other numerical problems.\n"
     ]
    }
   ],
   "source": [
    "fin = sm.add_constant(final_X)\n",
    "final_est = sm.OLS(final_y, fin)\n",
    "fin_est = final_est.fit()\n",
    "print(fin_est.summary())"
   ]
  },
  {
   "cell_type": "code",
   "execution_count": null,
   "metadata": {},
   "outputs": [],
   "source": []
  }
 ],
 "metadata": {
  "kernelspec": {
   "display_name": "Python 3",
   "language": "python",
   "name": "python3"
  },
  "language_info": {
   "codemirror_mode": {
    "name": "ipython",
    "version": 3
   },
   "file_extension": ".py",
   "mimetype": "text/x-python",
   "name": "python",
   "nbconvert_exporter": "python",
   "pygments_lexer": "ipython3",
   "version": "3.7.6"
  }
 },
 "nbformat": 4,
 "nbformat_minor": 4
}
